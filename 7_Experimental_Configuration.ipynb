import pandas as pd
import numpy as np
import matplotlib.pyplot as plt
import seaborn as sns
from IPython.display import HTML, display
import os

# Display title and introduction
display(HTML("""
<div style="background-color:#f8f9fa; padding:20px; border-radius:10px; margin-bottom:20px">